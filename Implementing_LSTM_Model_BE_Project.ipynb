{
  "cells": [
    {
      "cell_type": "markdown",
      "source": [
        "# Implementing LSTM Model- Part of B.E Final Year Project"
      ],
      "metadata": {
        "id": "fefSQUp8Ulia"
      }
    },
    {
      "cell_type": "markdown",
      "source": [
        "## Initials"
      ],
      "metadata": {
        "id": "Uf7idjL7eeGt"
      }
    },
    {
      "cell_type": "code",
      "execution_count": null,
      "metadata": {
        "id": "9OVmQ0x_T_w0"
      },
      "outputs": [],
      "source": [
        "import pandas as pd"
      ]
    },
    {
      "cell_type": "code",
      "execution_count": null,
      "metadata": {
        "id": "qtMCMaKmT_w0"
      },
      "outputs": [],
      "source": [
        "df=pd.read_csv('/content/PROJECT DATA_BE_FINAL YEAR_2024-25.csv')"
      ]
    },
    {
      "cell_type": "code",
      "execution_count": null,
      "metadata": {
        "colab": {
          "base_uri": "https://localhost:8080/",
          "height": 223
        },
        "id": "zej4_UyOT_w0",
        "outputId": "77bce066-de16-4097-a5a0-f6e5d307334b"
      },
      "outputs": [
        {
          "output_type": "execute_result",
          "data": {
            "text/plain": [
              "   DAY  MONTH  YEAR  PRECIPITATION   MAXIMUM TEMPERATURE   \\\n",
              "0    1      1  2019             0.0                  22.3   \n",
              "1    2      1  2019             0.0                  22.7   \n",
              "2    3      1  2019             0.0                  19.9   \n",
              "3    4      1  2019             0.0                  17.7   \n",
              "4    5      1  2019             0.0                  20.9   \n",
              "\n",
              "   MINIMUM TEMPERATURE   WIND SPEED  HUMIDITY   SOLAR RADIATION  \\\n",
              "0                   5.8         9.4       70.1            160.9   \n",
              "1                   7.9        11.2       70.6            164.5   \n",
              "2                   7.0        21.1       83.1            166.9   \n",
              "3                   8.0        21.5       87.3            134.3   \n",
              "4                   7.6        21.6       78.8            165.6   \n",
              "\n",
              "   MAXIMUM DEMAND (IN MW)  \n",
              "0                  4472.0  \n",
              "1                  4228.0  \n",
              "2                  4331.0  \n",
              "3                  4461.0  \n",
              "4                  4170.0  "
            ],
            "text/html": [
              "\n",
              "  <div id=\"df-4073f511-53db-4c60-a6c3-ba74b27ff1ce\" class=\"colab-df-container\">\n",
              "    <div>\n",
              "<style scoped>\n",
              "    .dataframe tbody tr th:only-of-type {\n",
              "        vertical-align: middle;\n",
              "    }\n",
              "\n",
              "    .dataframe tbody tr th {\n",
              "        vertical-align: top;\n",
              "    }\n",
              "\n",
              "    .dataframe thead th {\n",
              "        text-align: right;\n",
              "    }\n",
              "</style>\n",
              "<table border=\"1\" class=\"dataframe\">\n",
              "  <thead>\n",
              "    <tr style=\"text-align: right;\">\n",
              "      <th></th>\n",
              "      <th>DAY</th>\n",
              "      <th>MONTH</th>\n",
              "      <th>YEAR</th>\n",
              "      <th>PRECIPITATION</th>\n",
              "      <th>MAXIMUM TEMPERATURE</th>\n",
              "      <th>MINIMUM TEMPERATURE</th>\n",
              "      <th>WIND SPEED</th>\n",
              "      <th>HUMIDITY</th>\n",
              "      <th>SOLAR RADIATION</th>\n",
              "      <th>MAXIMUM DEMAND (IN MW)</th>\n",
              "    </tr>\n",
              "  </thead>\n",
              "  <tbody>\n",
              "    <tr>\n",
              "      <th>0</th>\n",
              "      <td>1</td>\n",
              "      <td>1</td>\n",
              "      <td>2019</td>\n",
              "      <td>0.0</td>\n",
              "      <td>22.3</td>\n",
              "      <td>5.8</td>\n",
              "      <td>9.4</td>\n",
              "      <td>70.1</td>\n",
              "      <td>160.9</td>\n",
              "      <td>4472.0</td>\n",
              "    </tr>\n",
              "    <tr>\n",
              "      <th>1</th>\n",
              "      <td>2</td>\n",
              "      <td>1</td>\n",
              "      <td>2019</td>\n",
              "      <td>0.0</td>\n",
              "      <td>22.7</td>\n",
              "      <td>7.9</td>\n",
              "      <td>11.2</td>\n",
              "      <td>70.6</td>\n",
              "      <td>164.5</td>\n",
              "      <td>4228.0</td>\n",
              "    </tr>\n",
              "    <tr>\n",
              "      <th>2</th>\n",
              "      <td>3</td>\n",
              "      <td>1</td>\n",
              "      <td>2019</td>\n",
              "      <td>0.0</td>\n",
              "      <td>19.9</td>\n",
              "      <td>7.0</td>\n",
              "      <td>21.1</td>\n",
              "      <td>83.1</td>\n",
              "      <td>166.9</td>\n",
              "      <td>4331.0</td>\n",
              "    </tr>\n",
              "    <tr>\n",
              "      <th>3</th>\n",
              "      <td>4</td>\n",
              "      <td>1</td>\n",
              "      <td>2019</td>\n",
              "      <td>0.0</td>\n",
              "      <td>17.7</td>\n",
              "      <td>8.0</td>\n",
              "      <td>21.5</td>\n",
              "      <td>87.3</td>\n",
              "      <td>134.3</td>\n",
              "      <td>4461.0</td>\n",
              "    </tr>\n",
              "    <tr>\n",
              "      <th>4</th>\n",
              "      <td>5</td>\n",
              "      <td>1</td>\n",
              "      <td>2019</td>\n",
              "      <td>0.0</td>\n",
              "      <td>20.9</td>\n",
              "      <td>7.6</td>\n",
              "      <td>21.6</td>\n",
              "      <td>78.8</td>\n",
              "      <td>165.6</td>\n",
              "      <td>4170.0</td>\n",
              "    </tr>\n",
              "  </tbody>\n",
              "</table>\n",
              "</div>\n",
              "    <div class=\"colab-df-buttons\">\n",
              "\n",
              "  <div class=\"colab-df-container\">\n",
              "    <button class=\"colab-df-convert\" onclick=\"convertToInteractive('df-4073f511-53db-4c60-a6c3-ba74b27ff1ce')\"\n",
              "            title=\"Convert this dataframe to an interactive table.\"\n",
              "            style=\"display:none;\">\n",
              "\n",
              "  <svg xmlns=\"http://www.w3.org/2000/svg\" height=\"24px\" viewBox=\"0 -960 960 960\">\n",
              "    <path d=\"M120-120v-720h720v720H120Zm60-500h600v-160H180v160Zm220 220h160v-160H400v160Zm0 220h160v-160H400v160ZM180-400h160v-160H180v160Zm440 0h160v-160H620v160ZM180-180h160v-160H180v160Zm440 0h160v-160H620v160Z\"/>\n",
              "  </svg>\n",
              "    </button>\n",
              "\n",
              "  <style>\n",
              "    .colab-df-container {\n",
              "      display:flex;\n",
              "      gap: 12px;\n",
              "    }\n",
              "\n",
              "    .colab-df-convert {\n",
              "      background-color: #E8F0FE;\n",
              "      border: none;\n",
              "      border-radius: 50%;\n",
              "      cursor: pointer;\n",
              "      display: none;\n",
              "      fill: #1967D2;\n",
              "      height: 32px;\n",
              "      padding: 0 0 0 0;\n",
              "      width: 32px;\n",
              "    }\n",
              "\n",
              "    .colab-df-convert:hover {\n",
              "      background-color: #E2EBFA;\n",
              "      box-shadow: 0px 1px 2px rgba(60, 64, 67, 0.3), 0px 1px 3px 1px rgba(60, 64, 67, 0.15);\n",
              "      fill: #174EA6;\n",
              "    }\n",
              "\n",
              "    .colab-df-buttons div {\n",
              "      margin-bottom: 4px;\n",
              "    }\n",
              "\n",
              "    [theme=dark] .colab-df-convert {\n",
              "      background-color: #3B4455;\n",
              "      fill: #D2E3FC;\n",
              "    }\n",
              "\n",
              "    [theme=dark] .colab-df-convert:hover {\n",
              "      background-color: #434B5C;\n",
              "      box-shadow: 0px 1px 3px 1px rgba(0, 0, 0, 0.15);\n",
              "      filter: drop-shadow(0px 1px 2px rgba(0, 0, 0, 0.3));\n",
              "      fill: #FFFFFF;\n",
              "    }\n",
              "  </style>\n",
              "\n",
              "    <script>\n",
              "      const buttonEl =\n",
              "        document.querySelector('#df-4073f511-53db-4c60-a6c3-ba74b27ff1ce button.colab-df-convert');\n",
              "      buttonEl.style.display =\n",
              "        google.colab.kernel.accessAllowed ? 'block' : 'none';\n",
              "\n",
              "      async function convertToInteractive(key) {\n",
              "        const element = document.querySelector('#df-4073f511-53db-4c60-a6c3-ba74b27ff1ce');\n",
              "        const dataTable =\n",
              "          await google.colab.kernel.invokeFunction('convertToInteractive',\n",
              "                                                    [key], {});\n",
              "        if (!dataTable) return;\n",
              "\n",
              "        const docLinkHtml = 'Like what you see? Visit the ' +\n",
              "          '<a target=\"_blank\" href=https://colab.research.google.com/notebooks/data_table.ipynb>data table notebook</a>'\n",
              "          + ' to learn more about interactive tables.';\n",
              "        element.innerHTML = '';\n",
              "        dataTable['output_type'] = 'display_data';\n",
              "        await google.colab.output.renderOutput(dataTable, element);\n",
              "        const docLink = document.createElement('div');\n",
              "        docLink.innerHTML = docLinkHtml;\n",
              "        element.appendChild(docLink);\n",
              "      }\n",
              "    </script>\n",
              "  </div>\n",
              "\n",
              "\n",
              "<div id=\"df-985d3682-ccba-4e6d-9080-1c507d095921\">\n",
              "  <button class=\"colab-df-quickchart\" onclick=\"quickchart('df-985d3682-ccba-4e6d-9080-1c507d095921')\"\n",
              "            title=\"Suggest charts\"\n",
              "            style=\"display:none;\">\n",
              "\n",
              "<svg xmlns=\"http://www.w3.org/2000/svg\" height=\"24px\"viewBox=\"0 0 24 24\"\n",
              "     width=\"24px\">\n",
              "    <g>\n",
              "        <path d=\"M19 3H5c-1.1 0-2 .9-2 2v14c0 1.1.9 2 2 2h14c1.1 0 2-.9 2-2V5c0-1.1-.9-2-2-2zM9 17H7v-7h2v7zm4 0h-2V7h2v10zm4 0h-2v-4h2v4z\"/>\n",
              "    </g>\n",
              "</svg>\n",
              "  </button>\n",
              "\n",
              "<style>\n",
              "  .colab-df-quickchart {\n",
              "      --bg-color: #E8F0FE;\n",
              "      --fill-color: #1967D2;\n",
              "      --hover-bg-color: #E2EBFA;\n",
              "      --hover-fill-color: #174EA6;\n",
              "      --disabled-fill-color: #AAA;\n",
              "      --disabled-bg-color: #DDD;\n",
              "  }\n",
              "\n",
              "  [theme=dark] .colab-df-quickchart {\n",
              "      --bg-color: #3B4455;\n",
              "      --fill-color: #D2E3FC;\n",
              "      --hover-bg-color: #434B5C;\n",
              "      --hover-fill-color: #FFFFFF;\n",
              "      --disabled-bg-color: #3B4455;\n",
              "      --disabled-fill-color: #666;\n",
              "  }\n",
              "\n",
              "  .colab-df-quickchart {\n",
              "    background-color: var(--bg-color);\n",
              "    border: none;\n",
              "    border-radius: 50%;\n",
              "    cursor: pointer;\n",
              "    display: none;\n",
              "    fill: var(--fill-color);\n",
              "    height: 32px;\n",
              "    padding: 0;\n",
              "    width: 32px;\n",
              "  }\n",
              "\n",
              "  .colab-df-quickchart:hover {\n",
              "    background-color: var(--hover-bg-color);\n",
              "    box-shadow: 0 1px 2px rgba(60, 64, 67, 0.3), 0 1px 3px 1px rgba(60, 64, 67, 0.15);\n",
              "    fill: var(--button-hover-fill-color);\n",
              "  }\n",
              "\n",
              "  .colab-df-quickchart-complete:disabled,\n",
              "  .colab-df-quickchart-complete:disabled:hover {\n",
              "    background-color: var(--disabled-bg-color);\n",
              "    fill: var(--disabled-fill-color);\n",
              "    box-shadow: none;\n",
              "  }\n",
              "\n",
              "  .colab-df-spinner {\n",
              "    border: 2px solid var(--fill-color);\n",
              "    border-color: transparent;\n",
              "    border-bottom-color: var(--fill-color);\n",
              "    animation:\n",
              "      spin 1s steps(1) infinite;\n",
              "  }\n",
              "\n",
              "  @keyframes spin {\n",
              "    0% {\n",
              "      border-color: transparent;\n",
              "      border-bottom-color: var(--fill-color);\n",
              "      border-left-color: var(--fill-color);\n",
              "    }\n",
              "    20% {\n",
              "      border-color: transparent;\n",
              "      border-left-color: var(--fill-color);\n",
              "      border-top-color: var(--fill-color);\n",
              "    }\n",
              "    30% {\n",
              "      border-color: transparent;\n",
              "      border-left-color: var(--fill-color);\n",
              "      border-top-color: var(--fill-color);\n",
              "      border-right-color: var(--fill-color);\n",
              "    }\n",
              "    40% {\n",
              "      border-color: transparent;\n",
              "      border-right-color: var(--fill-color);\n",
              "      border-top-color: var(--fill-color);\n",
              "    }\n",
              "    60% {\n",
              "      border-color: transparent;\n",
              "      border-right-color: var(--fill-color);\n",
              "    }\n",
              "    80% {\n",
              "      border-color: transparent;\n",
              "      border-right-color: var(--fill-color);\n",
              "      border-bottom-color: var(--fill-color);\n",
              "    }\n",
              "    90% {\n",
              "      border-color: transparent;\n",
              "      border-bottom-color: var(--fill-color);\n",
              "    }\n",
              "  }\n",
              "</style>\n",
              "\n",
              "  <script>\n",
              "    async function quickchart(key) {\n",
              "      const quickchartButtonEl =\n",
              "        document.querySelector('#' + key + ' button');\n",
              "      quickchartButtonEl.disabled = true;  // To prevent multiple clicks.\n",
              "      quickchartButtonEl.classList.add('colab-df-spinner');\n",
              "      try {\n",
              "        const charts = await google.colab.kernel.invokeFunction(\n",
              "            'suggestCharts', [key], {});\n",
              "      } catch (error) {\n",
              "        console.error('Error during call to suggestCharts:', error);\n",
              "      }\n",
              "      quickchartButtonEl.classList.remove('colab-df-spinner');\n",
              "      quickchartButtonEl.classList.add('colab-df-quickchart-complete');\n",
              "    }\n",
              "    (() => {\n",
              "      let quickchartButtonEl =\n",
              "        document.querySelector('#df-985d3682-ccba-4e6d-9080-1c507d095921 button');\n",
              "      quickchartButtonEl.style.display =\n",
              "        google.colab.kernel.accessAllowed ? 'block' : 'none';\n",
              "    })();\n",
              "  </script>\n",
              "</div>\n",
              "\n",
              "    </div>\n",
              "  </div>\n"
            ],
            "application/vnd.google.colaboratory.intrinsic+json": {
              "type": "dataframe",
              "variable_name": "df",
              "summary": "{\n  \"name\": \"df\",\n  \"rows\": 1795,\n  \"fields\": [\n    {\n      \"column\": \"DAY\",\n      \"properties\": {\n        \"dtype\": \"number\",\n        \"std\": 8,\n        \"min\": 1,\n        \"max\": 31,\n        \"num_unique_values\": 31,\n        \"samples\": [\n          28,\n          16,\n          24\n        ],\n        \"semantic_type\": \"\",\n        \"description\": \"\"\n      }\n    },\n    {\n      \"column\": \"MONTH\",\n      \"properties\": {\n        \"dtype\": \"number\",\n        \"std\": 3,\n        \"min\": 1,\n        \"max\": 12,\n        \"num_unique_values\": 12,\n        \"samples\": [\n          11,\n          10,\n          1\n        ],\n        \"semantic_type\": \"\",\n        \"description\": \"\"\n      }\n    },\n    {\n      \"column\": \"YEAR\",\n      \"properties\": {\n        \"dtype\": \"number\",\n        \"std\": 1,\n        \"min\": 2019,\n        \"max\": 2023,\n        \"num_unique_values\": 5,\n        \"samples\": [\n          2020,\n          2023,\n          2021\n        ],\n        \"semantic_type\": \"\",\n        \"description\": \"\"\n      }\n    },\n    {\n      \"column\": \"PRECIPITATION \",\n      \"properties\": {\n        \"dtype\": \"number\",\n        \"std\": 11.573986396885058,\n        \"min\": 0.0,\n        \"max\": 148.012,\n        \"num_unique_values\": 295,\n        \"samples\": [\n          2.261,\n          0.015,\n          1.0\n        ],\n        \"semantic_type\": \"\",\n        \"description\": \"\"\n      }\n    },\n    {\n      \"column\": \"MAXIMUM TEMPERATURE \",\n      \"properties\": {\n        \"dtype\": \"number\",\n        \"std\": 7.129868002618154,\n        \"min\": 9.1,\n        \"max\": 47.0,\n        \"num_unique_values\": 286,\n        \"samples\": [\n          20.5,\n          29.9,\n          29.4\n        ],\n        \"semantic_type\": \"\",\n        \"description\": \"\"\n      }\n    },\n    {\n      \"column\": \"MINIMUM TEMPERATURE \",\n      \"properties\": {\n        \"dtype\": \"number\",\n        \"std\": 7.502274145755879,\n        \"min\": 3.0,\n        \"max\": 33.6,\n        \"num_unique_values\": 274,\n        \"samples\": [\n          13.8,\n          8.3,\n          31.7\n        ],\n        \"semantic_type\": \"\",\n        \"description\": \"\"\n      }\n    },\n    {\n      \"column\": \"WIND SPEED\",\n      \"properties\": {\n        \"dtype\": \"number\",\n        \"std\": 5.725515444771076,\n        \"min\": 5.4,\n        \"max\": 63.4,\n        \"num_unique_values\": 203,\n        \"samples\": [\n          31.8,\n          24.6,\n          19.3\n        ],\n        \"semantic_type\": \"\",\n        \"description\": \"\"\n      }\n    },\n    {\n      \"column\": \"HUMIDITY \",\n      \"properties\": {\n        \"dtype\": \"number\",\n        \"std\": 17.90707928782297,\n        \"min\": 17.8,\n        \"max\": 99.3,\n        \"num_unique_values\": 646,\n        \"samples\": [\n          86.1,\n          74.4,\n          55.9\n        ],\n        \"semantic_type\": \"\",\n        \"description\": \"\"\n      }\n    },\n    {\n      \"column\": \"SOLAR RADIATION\",\n      \"properties\": {\n        \"dtype\": \"number\",\n        \"std\": 62.51046544959153,\n        \"min\": 4.1,\n        \"max\": 335.2,\n        \"num_unique_values\": 1218,\n        \"samples\": [\n          220.0,\n          208.5,\n          136.3\n        ],\n        \"semantic_type\": \"\",\n        \"description\": \"\"\n      }\n    },\n    {\n      \"column\": \"MAXIMUM DEMAND (IN MW)\",\n      \"properties\": {\n        \"dtype\": \"number\",\n        \"std\": 1099.0505041942154,\n        \"min\": 2163.0,\n        \"max\": 7695.0,\n        \"num_unique_values\": 1403,\n        \"samples\": [\n          6532.0,\n          4423.0,\n          3955.0\n        ],\n        \"semantic_type\": \"\",\n        \"description\": \"\"\n      }\n    }\n  ]\n}"
            }
          },
          "metadata": {},
          "execution_count": 336
        }
      ],
      "source": [
        "df.head()"
      ]
    },
    {
      "cell_type": "code",
      "execution_count": null,
      "metadata": {
        "colab": {
          "base_uri": "https://localhost:8080/",
          "height": 223
        },
        "id": "AMlAsNCIT_w1",
        "outputId": "f0bf4b13-6e99-4196-b36d-de29b60e0b95"
      },
      "outputs": [
        {
          "output_type": "execute_result",
          "data": {
            "text/plain": [
              "      DAY  MONTH  YEAR  PRECIPITATION   MAXIMUM TEMPERATURE   \\\n",
              "1790   27     12  2023             0.0                  19.5   \n",
              "1791   28     12  2023             0.0                  19.5   \n",
              "1792   29     12  2023             0.0                  18.6   \n",
              "1793   30     12  2023             0.0                  19.4   \n",
              "1794   31     12  2023             0.0                  16.0   \n",
              "\n",
              "      MINIMUM TEMPERATURE   WIND SPEED  HUMIDITY   SOLAR RADIATION  \\\n",
              "1790                  10.3         9.4       91.9            145.0   \n",
              "1791                   9.3         9.4       91.1            146.8   \n",
              "1792                  12.0         9.4       93.9            144.0   \n",
              "1793                  12.8         9.4       90.0            113.7   \n",
              "1794                  11.5         9.4       87.0            146.9   \n",
              "\n",
              "      MAXIMUM DEMAND (IN MW)  \n",
              "1790                  4531.0  \n",
              "1791                  4578.0  \n",
              "1792                  4884.0  \n",
              "1793                  4556.0  \n",
              "1794                  4634.0  "
            ],
            "text/html": [
              "\n",
              "  <div id=\"df-bebd961e-4f64-49fb-862e-1e93494e3600\" class=\"colab-df-container\">\n",
              "    <div>\n",
              "<style scoped>\n",
              "    .dataframe tbody tr th:only-of-type {\n",
              "        vertical-align: middle;\n",
              "    }\n",
              "\n",
              "    .dataframe tbody tr th {\n",
              "        vertical-align: top;\n",
              "    }\n",
              "\n",
              "    .dataframe thead th {\n",
              "        text-align: right;\n",
              "    }\n",
              "</style>\n",
              "<table border=\"1\" class=\"dataframe\">\n",
              "  <thead>\n",
              "    <tr style=\"text-align: right;\">\n",
              "      <th></th>\n",
              "      <th>DAY</th>\n",
              "      <th>MONTH</th>\n",
              "      <th>YEAR</th>\n",
              "      <th>PRECIPITATION</th>\n",
              "      <th>MAXIMUM TEMPERATURE</th>\n",
              "      <th>MINIMUM TEMPERATURE</th>\n",
              "      <th>WIND SPEED</th>\n",
              "      <th>HUMIDITY</th>\n",
              "      <th>SOLAR RADIATION</th>\n",
              "      <th>MAXIMUM DEMAND (IN MW)</th>\n",
              "    </tr>\n",
              "  </thead>\n",
              "  <tbody>\n",
              "    <tr>\n",
              "      <th>1790</th>\n",
              "      <td>27</td>\n",
              "      <td>12</td>\n",
              "      <td>2023</td>\n",
              "      <td>0.0</td>\n",
              "      <td>19.5</td>\n",
              "      <td>10.3</td>\n",
              "      <td>9.4</td>\n",
              "      <td>91.9</td>\n",
              "      <td>145.0</td>\n",
              "      <td>4531.0</td>\n",
              "    </tr>\n",
              "    <tr>\n",
              "      <th>1791</th>\n",
              "      <td>28</td>\n",
              "      <td>12</td>\n",
              "      <td>2023</td>\n",
              "      <td>0.0</td>\n",
              "      <td>19.5</td>\n",
              "      <td>9.3</td>\n",
              "      <td>9.4</td>\n",
              "      <td>91.1</td>\n",
              "      <td>146.8</td>\n",
              "      <td>4578.0</td>\n",
              "    </tr>\n",
              "    <tr>\n",
              "      <th>1792</th>\n",
              "      <td>29</td>\n",
              "      <td>12</td>\n",
              "      <td>2023</td>\n",
              "      <td>0.0</td>\n",
              "      <td>18.6</td>\n",
              "      <td>12.0</td>\n",
              "      <td>9.4</td>\n",
              "      <td>93.9</td>\n",
              "      <td>144.0</td>\n",
              "      <td>4884.0</td>\n",
              "    </tr>\n",
              "    <tr>\n",
              "      <th>1793</th>\n",
              "      <td>30</td>\n",
              "      <td>12</td>\n",
              "      <td>2023</td>\n",
              "      <td>0.0</td>\n",
              "      <td>19.4</td>\n",
              "      <td>12.8</td>\n",
              "      <td>9.4</td>\n",
              "      <td>90.0</td>\n",
              "      <td>113.7</td>\n",
              "      <td>4556.0</td>\n",
              "    </tr>\n",
              "    <tr>\n",
              "      <th>1794</th>\n",
              "      <td>31</td>\n",
              "      <td>12</td>\n",
              "      <td>2023</td>\n",
              "      <td>0.0</td>\n",
              "      <td>16.0</td>\n",
              "      <td>11.5</td>\n",
              "      <td>9.4</td>\n",
              "      <td>87.0</td>\n",
              "      <td>146.9</td>\n",
              "      <td>4634.0</td>\n",
              "    </tr>\n",
              "  </tbody>\n",
              "</table>\n",
              "</div>\n",
              "    <div class=\"colab-df-buttons\">\n",
              "\n",
              "  <div class=\"colab-df-container\">\n",
              "    <button class=\"colab-df-convert\" onclick=\"convertToInteractive('df-bebd961e-4f64-49fb-862e-1e93494e3600')\"\n",
              "            title=\"Convert this dataframe to an interactive table.\"\n",
              "            style=\"display:none;\">\n",
              "\n",
              "  <svg xmlns=\"http://www.w3.org/2000/svg\" height=\"24px\" viewBox=\"0 -960 960 960\">\n",
              "    <path d=\"M120-120v-720h720v720H120Zm60-500h600v-160H180v160Zm220 220h160v-160H400v160Zm0 220h160v-160H400v160ZM180-400h160v-160H180v160Zm440 0h160v-160H620v160ZM180-180h160v-160H180v160Zm440 0h160v-160H620v160Z\"/>\n",
              "  </svg>\n",
              "    </button>\n",
              "\n",
              "  <style>\n",
              "    .colab-df-container {\n",
              "      display:flex;\n",
              "      gap: 12px;\n",
              "    }\n",
              "\n",
              "    .colab-df-convert {\n",
              "      background-color: #E8F0FE;\n",
              "      border: none;\n",
              "      border-radius: 50%;\n",
              "      cursor: pointer;\n",
              "      display: none;\n",
              "      fill: #1967D2;\n",
              "      height: 32px;\n",
              "      padding: 0 0 0 0;\n",
              "      width: 32px;\n",
              "    }\n",
              "\n",
              "    .colab-df-convert:hover {\n",
              "      background-color: #E2EBFA;\n",
              "      box-shadow: 0px 1px 2px rgba(60, 64, 67, 0.3), 0px 1px 3px 1px rgba(60, 64, 67, 0.15);\n",
              "      fill: #174EA6;\n",
              "    }\n",
              "\n",
              "    .colab-df-buttons div {\n",
              "      margin-bottom: 4px;\n",
              "    }\n",
              "\n",
              "    [theme=dark] .colab-df-convert {\n",
              "      background-color: #3B4455;\n",
              "      fill: #D2E3FC;\n",
              "    }\n",
              "\n",
              "    [theme=dark] .colab-df-convert:hover {\n",
              "      background-color: #434B5C;\n",
              "      box-shadow: 0px 1px 3px 1px rgba(0, 0, 0, 0.15);\n",
              "      filter: drop-shadow(0px 1px 2px rgba(0, 0, 0, 0.3));\n",
              "      fill: #FFFFFF;\n",
              "    }\n",
              "  </style>\n",
              "\n",
              "    <script>\n",
              "      const buttonEl =\n",
              "        document.querySelector('#df-bebd961e-4f64-49fb-862e-1e93494e3600 button.colab-df-convert');\n",
              "      buttonEl.style.display =\n",
              "        google.colab.kernel.accessAllowed ? 'block' : 'none';\n",
              "\n",
              "      async function convertToInteractive(key) {\n",
              "        const element = document.querySelector('#df-bebd961e-4f64-49fb-862e-1e93494e3600');\n",
              "        const dataTable =\n",
              "          await google.colab.kernel.invokeFunction('convertToInteractive',\n",
              "                                                    [key], {});\n",
              "        if (!dataTable) return;\n",
              "\n",
              "        const docLinkHtml = 'Like what you see? Visit the ' +\n",
              "          '<a target=\"_blank\" href=https://colab.research.google.com/notebooks/data_table.ipynb>data table notebook</a>'\n",
              "          + ' to learn more about interactive tables.';\n",
              "        element.innerHTML = '';\n",
              "        dataTable['output_type'] = 'display_data';\n",
              "        await google.colab.output.renderOutput(dataTable, element);\n",
              "        const docLink = document.createElement('div');\n",
              "        docLink.innerHTML = docLinkHtml;\n",
              "        element.appendChild(docLink);\n",
              "      }\n",
              "    </script>\n",
              "  </div>\n",
              "\n",
              "\n",
              "<div id=\"df-6e44effd-cfb3-4f5c-a12f-99f42d7a24c7\">\n",
              "  <button class=\"colab-df-quickchart\" onclick=\"quickchart('df-6e44effd-cfb3-4f5c-a12f-99f42d7a24c7')\"\n",
              "            title=\"Suggest charts\"\n",
              "            style=\"display:none;\">\n",
              "\n",
              "<svg xmlns=\"http://www.w3.org/2000/svg\" height=\"24px\"viewBox=\"0 0 24 24\"\n",
              "     width=\"24px\">\n",
              "    <g>\n",
              "        <path d=\"M19 3H5c-1.1 0-2 .9-2 2v14c0 1.1.9 2 2 2h14c1.1 0 2-.9 2-2V5c0-1.1-.9-2-2-2zM9 17H7v-7h2v7zm4 0h-2V7h2v10zm4 0h-2v-4h2v4z\"/>\n",
              "    </g>\n",
              "</svg>\n",
              "  </button>\n",
              "\n",
              "<style>\n",
              "  .colab-df-quickchart {\n",
              "      --bg-color: #E8F0FE;\n",
              "      --fill-color: #1967D2;\n",
              "      --hover-bg-color: #E2EBFA;\n",
              "      --hover-fill-color: #174EA6;\n",
              "      --disabled-fill-color: #AAA;\n",
              "      --disabled-bg-color: #DDD;\n",
              "  }\n",
              "\n",
              "  [theme=dark] .colab-df-quickchart {\n",
              "      --bg-color: #3B4455;\n",
              "      --fill-color: #D2E3FC;\n",
              "      --hover-bg-color: #434B5C;\n",
              "      --hover-fill-color: #FFFFFF;\n",
              "      --disabled-bg-color: #3B4455;\n",
              "      --disabled-fill-color: #666;\n",
              "  }\n",
              "\n",
              "  .colab-df-quickchart {\n",
              "    background-color: var(--bg-color);\n",
              "    border: none;\n",
              "    border-radius: 50%;\n",
              "    cursor: pointer;\n",
              "    display: none;\n",
              "    fill: var(--fill-color);\n",
              "    height: 32px;\n",
              "    padding: 0;\n",
              "    width: 32px;\n",
              "  }\n",
              "\n",
              "  .colab-df-quickchart:hover {\n",
              "    background-color: var(--hover-bg-color);\n",
              "    box-shadow: 0 1px 2px rgba(60, 64, 67, 0.3), 0 1px 3px 1px rgba(60, 64, 67, 0.15);\n",
              "    fill: var(--button-hover-fill-color);\n",
              "  }\n",
              "\n",
              "  .colab-df-quickchart-complete:disabled,\n",
              "  .colab-df-quickchart-complete:disabled:hover {\n",
              "    background-color: var(--disabled-bg-color);\n",
              "    fill: var(--disabled-fill-color);\n",
              "    box-shadow: none;\n",
              "  }\n",
              "\n",
              "  .colab-df-spinner {\n",
              "    border: 2px solid var(--fill-color);\n",
              "    border-color: transparent;\n",
              "    border-bottom-color: var(--fill-color);\n",
              "    animation:\n",
              "      spin 1s steps(1) infinite;\n",
              "  }\n",
              "\n",
              "  @keyframes spin {\n",
              "    0% {\n",
              "      border-color: transparent;\n",
              "      border-bottom-color: var(--fill-color);\n",
              "      border-left-color: var(--fill-color);\n",
              "    }\n",
              "    20% {\n",
              "      border-color: transparent;\n",
              "      border-left-color: var(--fill-color);\n",
              "      border-top-color: var(--fill-color);\n",
              "    }\n",
              "    30% {\n",
              "      border-color: transparent;\n",
              "      border-left-color: var(--fill-color);\n",
              "      border-top-color: var(--fill-color);\n",
              "      border-right-color: var(--fill-color);\n",
              "    }\n",
              "    40% {\n",
              "      border-color: transparent;\n",
              "      border-right-color: var(--fill-color);\n",
              "      border-top-color: var(--fill-color);\n",
              "    }\n",
              "    60% {\n",
              "      border-color: transparent;\n",
              "      border-right-color: var(--fill-color);\n",
              "    }\n",
              "    80% {\n",
              "      border-color: transparent;\n",
              "      border-right-color: var(--fill-color);\n",
              "      border-bottom-color: var(--fill-color);\n",
              "    }\n",
              "    90% {\n",
              "      border-color: transparent;\n",
              "      border-bottom-color: var(--fill-color);\n",
              "    }\n",
              "  }\n",
              "</style>\n",
              "\n",
              "  <script>\n",
              "    async function quickchart(key) {\n",
              "      const quickchartButtonEl =\n",
              "        document.querySelector('#' + key + ' button');\n",
              "      quickchartButtonEl.disabled = true;  // To prevent multiple clicks.\n",
              "      quickchartButtonEl.classList.add('colab-df-spinner');\n",
              "      try {\n",
              "        const charts = await google.colab.kernel.invokeFunction(\n",
              "            'suggestCharts', [key], {});\n",
              "      } catch (error) {\n",
              "        console.error('Error during call to suggestCharts:', error);\n",
              "      }\n",
              "      quickchartButtonEl.classList.remove('colab-df-spinner');\n",
              "      quickchartButtonEl.classList.add('colab-df-quickchart-complete');\n",
              "    }\n",
              "    (() => {\n",
              "      let quickchartButtonEl =\n",
              "        document.querySelector('#df-6e44effd-cfb3-4f5c-a12f-99f42d7a24c7 button');\n",
              "      quickchartButtonEl.style.display =\n",
              "        google.colab.kernel.accessAllowed ? 'block' : 'none';\n",
              "    })();\n",
              "  </script>\n",
              "</div>\n",
              "\n",
              "    </div>\n",
              "  </div>\n"
            ],
            "application/vnd.google.colaboratory.intrinsic+json": {
              "type": "dataframe",
              "summary": "{\n  \"name\": \"df\",\n  \"rows\": 5,\n  \"fields\": [\n    {\n      \"column\": \"DAY\",\n      \"properties\": {\n        \"dtype\": \"number\",\n        \"std\": 1,\n        \"min\": 27,\n        \"max\": 31,\n        \"num_unique_values\": 5,\n        \"samples\": [\n          28,\n          31,\n          29\n        ],\n        \"semantic_type\": \"\",\n        \"description\": \"\"\n      }\n    },\n    {\n      \"column\": \"MONTH\",\n      \"properties\": {\n        \"dtype\": \"number\",\n        \"std\": 0,\n        \"min\": 12,\n        \"max\": 12,\n        \"num_unique_values\": 1,\n        \"samples\": [\n          12\n        ],\n        \"semantic_type\": \"\",\n        \"description\": \"\"\n      }\n    },\n    {\n      \"column\": \"YEAR\",\n      \"properties\": {\n        \"dtype\": \"number\",\n        \"std\": 0,\n        \"min\": 2023,\n        \"max\": 2023,\n        \"num_unique_values\": 1,\n        \"samples\": [\n          2023\n        ],\n        \"semantic_type\": \"\",\n        \"description\": \"\"\n      }\n    },\n    {\n      \"column\": \"PRECIPITATION \",\n      \"properties\": {\n        \"dtype\": \"number\",\n        \"std\": 0.0,\n        \"min\": 0.0,\n        \"max\": 0.0,\n        \"num_unique_values\": 1,\n        \"samples\": [\n          0.0\n        ],\n        \"semantic_type\": \"\",\n        \"description\": \"\"\n      }\n    },\n    {\n      \"column\": \"MAXIMUM TEMPERATURE \",\n      \"properties\": {\n        \"dtype\": \"number\",\n        \"std\": 1.5016657417681205,\n        \"min\": 16.0,\n        \"max\": 19.5,\n        \"num_unique_values\": 4,\n        \"samples\": [\n          18.6\n        ],\n        \"semantic_type\": \"\",\n        \"description\": \"\"\n      }\n    },\n    {\n      \"column\": \"MINIMUM TEMPERATURE \",\n      \"properties\": {\n        \"dtype\": \"number\",\n        \"std\": 1.3881642554107203,\n        \"min\": 9.3,\n        \"max\": 12.8,\n        \"num_unique_values\": 5,\n        \"samples\": [\n          9.3\n        ],\n        \"semantic_type\": \"\",\n        \"description\": \"\"\n      }\n    },\n    {\n      \"column\": \"WIND SPEED\",\n      \"properties\": {\n        \"dtype\": \"number\",\n        \"std\": 0.0,\n        \"min\": 9.4,\n        \"max\": 9.4,\n        \"num_unique_values\": 1,\n        \"samples\": [\n          9.4\n        ],\n        \"semantic_type\": \"\",\n        \"description\": \"\"\n      }\n    },\n    {\n      \"column\": \"HUMIDITY \",\n      \"properties\": {\n        \"dtype\": \"number\",\n        \"std\": 2.548921340488955,\n        \"min\": 87.0,\n        \"max\": 93.9,\n        \"num_unique_values\": 5,\n        \"samples\": [\n          91.1\n        ],\n        \"semantic_type\": \"\",\n        \"description\": \"\"\n      }\n    },\n    {\n      \"column\": \"SOLAR RADIATION\",\n      \"properties\": {\n        \"dtype\": \"number\",\n        \"std\": 14.352247210802913,\n        \"min\": 113.7,\n        \"max\": 146.9,\n        \"num_unique_values\": 5,\n        \"samples\": [\n          146.8\n        ],\n        \"semantic_type\": \"\",\n        \"description\": \"\"\n      }\n    },\n    {\n      \"column\": \"MAXIMUM DEMAND (IN MW)\",\n      \"properties\": {\n        \"dtype\": \"number\",\n        \"std\": 143.4356998797719,\n        \"min\": 4531.0,\n        \"max\": 4884.0,\n        \"num_unique_values\": 5,\n        \"samples\": [\n          4578.0\n        ],\n        \"semantic_type\": \"\",\n        \"description\": \"\"\n      }\n    }\n  ]\n}"
            }
          },
          "metadata": {},
          "execution_count": 337
        }
      ],
      "source": [
        "df.tail()"
      ]
    },
    {
      "cell_type": "code",
      "execution_count": null,
      "metadata": {
        "id": "Es9HtYAAT_w2"
      },
      "outputs": [],
      "source": [
        "df1=df.reset_index()['MAXIMUM DEMAND (IN MW)']"
      ]
    },
    {
      "cell_type": "code",
      "execution_count": null,
      "metadata": {
        "colab": {
          "base_uri": "https://localhost:8080/",
          "height": 458
        },
        "id": "yF-xjwz5T_w2",
        "outputId": "f99caee0-58c9-4165-96ce-b39200c5c49c"
      },
      "outputs": [
        {
          "output_type": "execute_result",
          "data": {
            "text/plain": [
              "0       4472.0\n",
              "1       4228.0\n",
              "2       4331.0\n",
              "3       4461.0\n",
              "4       4170.0\n",
              "         ...  \n",
              "1790    4531.0\n",
              "1791    4578.0\n",
              "1792    4884.0\n",
              "1793    4556.0\n",
              "1794    4634.0\n",
              "Name: MAXIMUM DEMAND (IN MW), Length: 1795, dtype: float64"
            ],
            "text/html": [
              "<div>\n",
              "<style scoped>\n",
              "    .dataframe tbody tr th:only-of-type {\n",
              "        vertical-align: middle;\n",
              "    }\n",
              "\n",
              "    .dataframe tbody tr th {\n",
              "        vertical-align: top;\n",
              "    }\n",
              "\n",
              "    .dataframe thead th {\n",
              "        text-align: right;\n",
              "    }\n",
              "</style>\n",
              "<table border=\"1\" class=\"dataframe\">\n",
              "  <thead>\n",
              "    <tr style=\"text-align: right;\">\n",
              "      <th></th>\n",
              "      <th>MAXIMUM DEMAND (IN MW)</th>\n",
              "    </tr>\n",
              "  </thead>\n",
              "  <tbody>\n",
              "    <tr>\n",
              "      <th>0</th>\n",
              "      <td>4472.0</td>\n",
              "    </tr>\n",
              "    <tr>\n",
              "      <th>1</th>\n",
              "      <td>4228.0</td>\n",
              "    </tr>\n",
              "    <tr>\n",
              "      <th>2</th>\n",
              "      <td>4331.0</td>\n",
              "    </tr>\n",
              "    <tr>\n",
              "      <th>3</th>\n",
              "      <td>4461.0</td>\n",
              "    </tr>\n",
              "    <tr>\n",
              "      <th>4</th>\n",
              "      <td>4170.0</td>\n",
              "    </tr>\n",
              "    <tr>\n",
              "      <th>...</th>\n",
              "      <td>...</td>\n",
              "    </tr>\n",
              "    <tr>\n",
              "      <th>1790</th>\n",
              "      <td>4531.0</td>\n",
              "    </tr>\n",
              "    <tr>\n",
              "      <th>1791</th>\n",
              "      <td>4578.0</td>\n",
              "    </tr>\n",
              "    <tr>\n",
              "      <th>1792</th>\n",
              "      <td>4884.0</td>\n",
              "    </tr>\n",
              "    <tr>\n",
              "      <th>1793</th>\n",
              "      <td>4556.0</td>\n",
              "    </tr>\n",
              "    <tr>\n",
              "      <th>1794</th>\n",
              "      <td>4634.0</td>\n",
              "    </tr>\n",
              "  </tbody>\n",
              "</table>\n",
              "<p>1795 rows × 1 columns</p>\n",
              "</div><br><label><b>dtype:</b> float64</label>"
            ]
          },
          "metadata": {},
          "execution_count": 339
        }
      ],
      "source": [
        "df1"
      ]
    },
    {
      "cell_type": "code",
      "execution_count": null,
      "metadata": {
        "colab": {
          "base_uri": "https://localhost:8080/",
          "height": 447
        },
        "id": "UoT3sVMcT_w2",
        "outputId": "46b95425-a5e3-4f65-d2bb-7fc9992cca30"
      },
      "outputs": [
        {
          "output_type": "execute_result",
          "data": {
            "text/plain": [
              "[<matplotlib.lines.Line2D at 0x784b9a714a10>]"
            ]
          },
          "metadata": {},
          "execution_count": 340
        },
        {
          "output_type": "display_data",
          "data": {
            "text/plain": [
              "<Figure size 640x480 with 1 Axes>"
            ],
            "image/png": "[encoded data removed]"
          },
          "metadata": {}
        }
      ],
      "source": [
        "import matplotlib.pyplot as plt\n",
        "plt.plot(df1)"
      ]
    },
    {
      "cell_type": "code",
      "execution_count": null,
      "metadata": {
        "id": "G0WtdOLmT_w2"
      },
      "outputs": [],
      "source": [
        "# LSTM are sensitive to the scale of the data. so we apply MinMax scaler"
      ]
    },
    {
      "cell_type": "code",
      "execution_count": null,
      "metadata": {
        "id": "TN_iDLirT_w3"
      },
      "outputs": [],
      "source": [
        "import numpy as np"
      ]
    },
    {
      "cell_type": "code",
      "execution_count": null,
      "metadata": {
        "colab": {
          "base_uri": "https://localhost:8080/",
          "height": 458
        },
        "id": "ICRoxiv-T_w3",
        "outputId": "09b77ed0-8f25-4b43-86be-0a014606d253"
      },
      "outputs": [
        {
          "output_type": "execute_result",
          "data": {
            "text/plain": [
              "0       4472.0\n",
              "1       4228.0\n",
              "2       4331.0\n",
              "3       4461.0\n",
              "4       4170.0\n",
              "         ...  \n",
              "1790    4531.0\n",
              "1791    4578.0\n",
              "1792    4884.0\n",
              "1793    4556.0\n",
              "1794    4634.0\n",
              "Name: MAXIMUM DEMAND (IN MW), Length: 1795, dtype: float64"
            ],
            "text/html": [
              "<div>\n",
              "<style scoped>\n",
              "    .dataframe tbody tr th:only-of-type {\n",
              "        vertical-align: middle;\n",
              "    }\n",
              "\n",
              "    .dataframe tbody tr th {\n",
              "        vertical-align: top;\n",
              "    }\n",
              "\n",
              "    .dataframe thead th {\n",
              "        text-align: right;\n",
              "    }\n",
              "</style>\n",
              "<table border=\"1\" class=\"dataframe\">\n",
              "  <thead>\n",
              "    <tr style=\"text-align: right;\">\n",
              "      <th></th>\n",
              "      <th>MAXIMUM DEMAND (IN MW)</th>\n",
              "    </tr>\n",
              "  </thead>\n",
              "  <tbody>\n",
              "    <tr>\n",
              "      <th>0</th>\n",
              "      <td>4472.0</td>\n",
              "    </tr>\n",
              "    <tr>\n",
              "      <th>1</th>\n",
              "      <td>4228.0</td>\n",
              "    </tr>\n",
              "    <tr>\n",
              "      <th>2</th>\n",
              "      <td>4331.0</td>\n",
              "    </tr>\n",
              "    <tr>\n",
              "      <th>3</th>\n",
              "      <td>4461.0</td>\n",
              "    </tr>\n",
              "    <tr>\n",
              "      <th>4</th>\n",
              "      <td>4170.0</td>\n",
              "    </tr>\n",
              "    <tr>\n",
              "      <th>...</th>\n",
              "      <td>...</td>\n",
              "    </tr>\n",
              "    <tr>\n",
              "      <th>1790</th>\n",
              "      <td>4531.0</td>\n",
              "    </tr>\n",
              "    <tr>\n",
              "      <th>1791</th>\n",
              "      <td>4578.0</td>\n",
              "    </tr>\n",
              "    <tr>\n",
              "      <th>1792</th>\n",
              "      <td>4884.0</td>\n",
              "    </tr>\n",
              "    <tr>\n",
              "      <th>1793</th>\n",
              "      <td>4556.0</td>\n",
              "    </tr>\n",
              "    <tr>\n",
              "      <th>1794</th>\n",
              "      <td>4634.0</td>\n",
              "    </tr>\n",
              "  </tbody>\n",
              "</table>\n",
              "<p>1795 rows × 1 columns</p>\n",
              "</div><br><label><b>dtype:</b> float64</label>"
            ]
          },
          "metadata": {},
          "execution_count": 343
        }
      ],
      "source": [
        "df1"
      ]
    },
    {
      "cell_type": "code",
      "source": [
        "df1\n",
        "df1=np.array(df1).reshape(-1,1)\n",
        "a1=int(len(df1)*0.80)\n",
        "a2 =len(df1)-a1\n",
        "_80,_20=df1[0:a1,:],df1[a1:len(df1),:1]"
      ],
      "metadata": {
        "id": "Mn-kbdiqTKP0"
      },
      "execution_count": null,
      "outputs": []
    },
    {
      "cell_type": "code",
      "source": [
        "_20.size"
      ],
      "metadata": {
        "colab": {
          "base_uri": "https://localhost:8080/"
        },
        "id": "oLHtU4PATt4z",
        "outputId": "a644d812-71f6-4dbb-d918-3b89ba50e079"
      },
      "execution_count": null,
      "outputs": [
        {
          "output_type": "execute_result",
          "data": {
            "text/plain": [
              "359"
            ]
          },
          "metadata": {},
          "execution_count": 345
        }
      ]
    },
    {
      "cell_type": "code",
      "source": [
        "a3 = int(len(_20)*0.80)\n",
        "_20_final = _20[0:328,:]"
      ],
      "metadata": {
        "id": "O9mqRPTcWG6G"
      },
      "execution_count": null,
      "outputs": []
    },
    {
      "cell_type": "code",
      "source": [
        "a3"
      ],
      "metadata": {
        "colab": {
          "base_uri": "https://localhost:8080/"
        },
        "id": "_9pcxCb2Wx9f",
        "outputId": "ad015e85-5d9d-4d2a-8f1e-8accc21de3ec"
      },
      "execution_count": null,
      "outputs": [
        {
          "output_type": "execute_result",
          "data": {
            "text/plain": [
              "287"
            ]
          },
          "metadata": {},
          "execution_count": 347
        }
      ]
    },
    {
      "cell_type": "code",
      "source": [
        "_20_final.size"
      ],
      "metadata": {
        "colab": {
          "base_uri": "https://localhost:8080/"
        },
        "id": "X32715C0Wgd5",
        "outputId": "be8eacfa-b4da-4159-9770-9ad8e4fba608"
      },
      "execution_count": null,
      "outputs": [
        {
          "output_type": "execute_result",
          "data": {
            "text/plain": [
              "328"
            ]
          },
          "metadata": {},
          "execution_count": 371
        }
      ]
    },
    {
      "cell_type": "markdown",
      "source": [
        "## Scaling and Preprocessing"
      ],
      "metadata": {
        "id": "Rmsu6SBja4hY"
      }
    },
    {
      "cell_type": "code",
      "execution_count": null,
      "metadata": {
        "id": "8QMPoh4GT_w3"
      },
      "outputs": [],
      "source": [
        "from sklearn.preprocessing import MinMaxScaler\n",
        "scaler=MinMaxScaler(feature_range=(0,1))\n",
        "df1=scaler.fit_transform(np.array(df1).reshape(-1,1))"
      ]
    },
    {
      "cell_type": "code",
      "execution_count": null,
      "metadata": {
        "colab": {
          "base_uri": "https://localhost:8080/"
        },
        "id": "-4EnopoUT_w3",
        "outputId": "a4589796-4c82-4c62-fb6f-e5e23e851c2a"
      },
      "outputs": [
        {
          "output_type": "stream",
          "name": "stdout",
          "text": [
            "[[0.41738973]\n",
            " [0.37328272]\n",
            " [0.39190166]\n",
            " ...\n",
            " [0.49186551]\n",
            " [0.43257411]\n",
            " [0.4466739 ]]\n"
          ]
        }
      ],
      "source": [
        "print(df1)"
      ]
    },
    {
      "cell_type": "code",
      "execution_count": null,
      "metadata": {
        "id": "WFgd1lsST_w4"
      },
      "outputs": [],
      "source": [
        "# Splitting dataset into train and test split\n",
        "training_size=int(len(df1)*0.80)\n",
        "test_size=len(df1)-training_size\n",
        "train_data,test_data=df1[0:training_size,:],df1[training_size:len(df1),:1]"
      ]
    },
    {
      "cell_type": "code",
      "execution_count": null,
      "metadata": {
        "colab": {
          "base_uri": "https://localhost:8080/"
        },
        "id": "MBxHSmAOT_w4",
        "outputId": "b99bcb8d-b3ac-47b4-a725-ed07dfe0e18b"
      },
      "outputs": [
        {
          "output_type": "execute_result",
          "data": {
            "text/plain": [
              "(1436, 359)"
            ]
          },
          "metadata": {},
          "execution_count": 352
        }
      ],
      "source": [
        "training_size,test_size"
      ]
    },
    {
      "cell_type": "code",
      "execution_count": null,
      "metadata": {
        "colab": {
          "base_uri": "https://localhost:8080/"
        },
        "id": "ySTbzVF6T_w4",
        "outputId": "5a207d56-9ffb-4702-c1cc-8c1c31ade67c"
      },
      "outputs": [
        {
          "output_type": "execute_result",
          "data": {
            "text/plain": [
              "array([[0.41738973],\n",
              "       [0.37328272],\n",
              "       [0.39190166],\n",
              "       ...,\n",
              "       [0.53561099],\n",
              "       [0.55748373],\n",
              "       [0.60791757]])"
            ]
          },
          "metadata": {},
          "execution_count": 353
        }
      ],
      "source": [
        "train_data"
      ]
    },
    {
      "cell_type": "code",
      "source": [
        "test_data"
      ],
      "metadata": {
        "colab": {
          "base_uri": "https://localhost:8080/"
        },
        "id": "gneYSvP5FIoG",
        "outputId": "86db428f-33af-40f5-c867-997f260f6a01"
      },
      "execution_count": null,
      "outputs": [
        {
          "output_type": "execute_result",
          "data": {
            "text/plain": [
              "array([[0.53886479],\n",
              "       [0.55151844],\n",
              "       [0.60050615],\n",
              "       [0.60610991],\n",
              "       [0.59851772],\n",
              "       [0.54501085],\n",
              "       [0.54103398],\n",
              "       [0.47541576],\n",
              "       [0.48228489],\n",
              "       [0.51301518],\n",
              "       [0.5236804 ],\n",
              "       [0.53633406],\n",
              "       [0.49186551],\n",
              "       [0.50253073],\n",
              "       [0.42751265],\n",
              "       [0.45462762],\n",
              "       [0.41720897],\n",
              "       [0.42245119],\n",
              "       [0.43347795],\n",
              "       [0.33152567],\n",
              "       [0.46493131],\n",
              "       [0.40726681],\n",
              "       [0.41829356],\n",
              "       [0.44649313],\n",
              "       [0.45046999],\n",
              "       [0.45263919],\n",
              "       [0.41359364],\n",
              "       [0.4477585 ],\n",
              "       [0.36135213],\n",
              "       [0.37852495],\n",
              "       [0.3571945 ],\n",
              "       [0.34960231],\n",
              "       [0.36767896],\n",
              "       [0.33682213],\n",
              "       [0.35014461],\n",
              "       [0.3038684 ],\n",
              "       [0.30965293],\n",
              "       [0.3302603 ],\n",
              "       [0.33857556],\n",
              "       [0.35249458],\n",
              "       [0.32447578],\n",
              "       [0.34743312],\n",
              "       [0.32194505],\n",
              "       [0.26644975],\n",
              "       [0.28561099],\n",
              "       [0.29049168],\n",
              "       [0.31652205],\n",
              "       [0.2807303 ],\n",
              "       [0.32284888],\n",
              "       [0.27331887],\n",
              "       [0.26211135],\n",
              "       [0.28380333],\n",
              "       [0.29085322],\n",
              "       [0.29157628],\n",
              "       [0.29699928],\n",
              "       [0.32827187],\n",
              "       [0.26283442],\n",
              "       [0.24331164],\n",
              "       [0.26934201],\n",
              "       [0.26988431],\n",
              "       [0.06200289],\n",
              "       [0.19938539],\n",
              "       [0.26409978],\n",
              "       [0.22704266],\n",
              "       [0.22794649],\n",
              "       [0.28543022],\n",
              "       [0.29139552],\n",
              "       [0.28796095],\n",
              "       [0.31688359],\n",
              "       [0.31869125],\n",
              "       [0.25741142],\n",
              "       [0.23590022],\n",
              "       [0.2807303 ],\n",
              "       [0.27458424],\n",
              "       [0.31670282],\n",
              "       [0.27657267],\n",
              "       [0.30477223],\n",
              "       [0.24746927],\n",
              "       [0.2263196 ],\n",
              "       [0.28669559],\n",
              "       [0.27928416],\n",
              "       [0.28470716],\n",
              "       [0.2478308 ],\n",
              "       [0.29464931],\n",
              "       [0.23571945],\n",
              "       [0.2214389 ],\n",
              "       [0.26663051],\n",
              "       [0.26102675],\n",
              "       [0.28326103],\n",
              "       [0.27259581],\n",
              "       [0.29645698],\n",
              "       [0.25289226],\n",
              "       [0.23391179],\n",
              "       [0.30892986],\n",
              "       [0.32537961],\n",
              "       [0.36623283],\n",
              "       [0.3922632 ],\n",
              "       [0.39877079],\n",
              "       [0.40130152],\n",
              "       [0.40545915],\n",
              "       [0.53723789],\n",
              "       [0.58911786],\n",
              "       [0.56851048],\n",
              "       [0.53109183],\n",
              "       [0.469812  ],\n",
              "       [0.38937093],\n",
              "       [0.32013738],\n",
              "       [0.35918294],\n",
              "       [0.37707881],\n",
              "       [0.42064353],\n",
              "       [0.46113521],\n",
              "       [0.40943601],\n",
              "       [0.36008677],\n",
              "       [0.29555315],\n",
              "       [0.27187274],\n",
              "       [0.28615329],\n",
              "       [0.34454085],\n",
              "       [0.28633406],\n",
              "       [0.32537961],\n",
              "       [0.31670282],\n",
              "       [0.3065799 ],\n",
              "       [0.4466739 ],\n",
              "       [0.44161244],\n",
              "       [0.44595083],\n",
              "       [0.50090383],\n",
              "       [0.54880694],\n",
              "       [0.56182213],\n",
              "       [0.5554953 ],\n",
              "       [0.64533623],\n",
              "       [0.65401302],\n",
              "       [0.68510484],\n",
              "       [0.62039046],\n",
              "       [0.60647144],\n",
              "       [0.60791757],\n",
              "       [0.6955893 ],\n",
              "       [0.78976862],\n",
              "       [0.85918294],\n",
              "       [0.71908894],\n",
              "       [0.57791034],\n",
              "       [0.53380333],\n",
              "       [0.52313811],\n",
              "       [0.48264642],\n",
              "       [0.49331164],\n",
              "       [0.50397686],\n",
              "       [0.42462039],\n",
              "       [0.40256688],\n",
              "       [0.44486623],\n",
              "       [0.46221981],\n",
              "       [0.50741142],\n",
              "       [0.60737527],\n",
              "       [0.6142444 ],\n",
              "       [0.65148228],\n",
              "       [0.69432393],\n",
              "       [0.78344179],\n",
              "       [0.7527115 ],\n",
              "       [0.73626175],\n",
              "       [0.84345625],\n",
              "       [0.89208243],\n",
              "       [0.91522054],\n",
              "       [0.84887925],\n",
              "       [0.8335141 ],\n",
              "       [0.79121475],\n",
              "       [0.75759219],\n",
              "       [0.74349241],\n",
              "       [0.76355748],\n",
              "       [0.78036876],\n",
              "       [0.85755604],\n",
              "       [0.86912509],\n",
              "       [0.84616775],\n",
              "       [0.74746927],\n",
              "       [0.60845987],\n",
              "       [0.65437455],\n",
              "       [0.70209689],\n",
              "       [0.63503254],\n",
              "       [0.66467824],\n",
              "       [0.6368402 ],\n",
              "       [0.73336949],\n",
              "       [0.87129429],\n",
              "       [0.81887202],\n",
              "       [0.81652205],\n",
              "       [0.69468547],\n",
              "       [0.73011569],\n",
              "       [0.65563991],\n",
              "       [0.48445409],\n",
              "       [0.57953724],\n",
              "       [0.5592914 ],\n",
              "       [0.6428055 ],\n",
              "       [0.69486623],\n",
              "       [0.67588576],\n",
              "       [0.62364425],\n",
              "       [0.65600145],\n",
              "       [0.73047722],\n",
              "       [0.67480116],\n",
              "       [0.78000723],\n",
              "       [0.88195951],\n",
              "       [0.94631236],\n",
              "       [0.86135213],\n",
              "       [0.85375994],\n",
              "       [0.91413594],\n",
              "       [0.92480116],\n",
              "       [0.81489516],\n",
              "       [0.73427332],\n",
              "       [0.72161967],\n",
              "       [0.56525669],\n",
              "       [0.6955893 ],\n",
              "       [0.80043384],\n",
              "       [0.84508315],\n",
              "       [0.89334779],\n",
              "       [0.87762111],\n",
              "       [0.8038684 ],\n",
              "       [0.72071584],\n",
              "       [0.73391179],\n",
              "       [0.75343456],\n",
              "       [0.76084599],\n",
              "       [0.76084599],\n",
              "       [0.81091829],\n",
              "       [0.81471439],\n",
              "       [0.76102675],\n",
              "       [0.72921186],\n",
              "       [0.73156182],\n",
              "       [0.70028923],\n",
              "       [0.83893709],\n",
              "       [0.86659436],\n",
              "       [0.90328995],\n",
              "       [0.85809834],\n",
              "       [0.83477946],\n",
              "       [0.92642805],\n",
              "       [0.95336226],\n",
              "       [0.75614606],\n",
              "       [0.69143167],\n",
              "       [0.73915401],\n",
              "       [0.6961316 ],\n",
              "       [0.6708243 ],\n",
              "       [0.77819957],\n",
              "       [0.78199566],\n",
              "       [0.75723066],\n",
              "       [0.82067968],\n",
              "       [0.8367679 ],\n",
              "       [0.79826464],\n",
              "       [0.82809111],\n",
              "       [0.81037599],\n",
              "       [0.87310195],\n",
              "       [0.82465654],\n",
              "       [0.76753435],\n",
              "       [0.70245842],\n",
              "       [0.68094722],\n",
              "       [0.42895879],\n",
              "       [0.56742589],\n",
              "       [0.63864787],\n",
              "       [0.73806941],\n",
              "       [0.82989877],\n",
              "       [0.77114967],\n",
              "       [0.68438178],\n",
              "       [0.55043384],\n",
              "       [0.61587129],\n",
              "       [0.70028923],\n",
              "       [0.76102675],\n",
              "       [0.81290672],\n",
              "       [0.79410701],\n",
              "       [0.75524223],\n",
              "       [0.58261027],\n",
              "       [0.64154013],\n",
              "       [0.65690528],\n",
              "       [0.64352856],\n",
              "       [0.57104121],\n",
              "       [0.60520607],\n",
              "       [0.54880694],\n",
              "       [0.52657267],\n",
              "       [0.44305857],\n",
              "       [0.48734635],\n",
              "       [0.50018077],\n",
              "       [0.49963847],\n",
              "       [0.51211135],\n",
              "       [0.50704989],\n",
              "       [0.56995662],\n",
              "       [0.61822126],\n",
              "       [0.61532899],\n",
              "       [0.52838033],\n",
              "       [0.50289226],\n",
              "       [0.52458424],\n",
              "       [0.47975416],\n",
              "       [0.42787419],\n",
              "       [0.43275488],\n",
              "       [0.36062907],\n",
              "       [0.36641359],\n",
              "       [0.35610991],\n",
              "       [0.36912509],\n",
              "       [0.31742589],\n",
              "       [0.27241504],\n",
              "       [0.33640636],\n",
              "       [0.24295011],\n",
              "       [0.35249458],\n",
              "       [0.35159074],\n",
              "       [0.35267534],\n",
              "       [0.30911063],\n",
              "       [0.2763919 ],\n",
              "       [0.35610991],\n",
              "       [0.37002892],\n",
              "       [0.38991323],\n",
              "       [0.36804049],\n",
              "       [0.37382502],\n",
              "       [0.31905278],\n",
              "       [0.30404917],\n",
              "       [0.34544469],\n",
              "       [0.34201012],\n",
              "       [0.35755604],\n",
              "       [0.34417932],\n",
              "       [0.35665221],\n",
              "       [0.26084599],\n",
              "       [0.16214751],\n",
              "       [0.1352133 ],\n",
              "       [0.21366594],\n",
              "       [0.26001446],\n",
              "       [0.26174982],\n",
              "       [0.31146059],\n",
              "       [0.25921909],\n",
              "       [0.24041938],\n",
              "       [0.2478308 ],\n",
              "       [0.27006508],\n",
              "       [0.28199566],\n",
              "       [0.2796457 ],\n",
              "       [0.33116414],\n",
              "       [0.28524946],\n",
              "       [0.30296457],\n",
              "       [0.32013738],\n",
              "       [0.30043384],\n",
              "       [0.31109906],\n",
              "       [0.30350687],\n",
              "       [0.3362256 ],\n",
              "       [0.28235719],\n",
              "       [0.3027838 ],\n",
              "       [0.3022415 ],\n",
              "       [0.30242227],\n",
              "       [0.31164136],\n",
              "       [0.30856833],\n",
              "       [0.34472162],\n",
              "       [0.3092914 ],\n",
              "       [0.32122198],\n",
              "       [0.32230658],\n",
              "       [0.3335141 ],\n",
              "       [0.35321764],\n",
              "       [0.30133767],\n",
              "       [0.37599422],\n",
              "       [0.33821403],\n",
              "       [0.35665221],\n",
              "       [0.36062907],\n",
              "       [0.39551699],\n",
              "       [0.39732466],\n",
              "       [0.39425163],\n",
              "       [0.43727404],\n",
              "       [0.38214027],\n",
              "       [0.38412871],\n",
              "       [0.42823572],\n",
              "       [0.40437455],\n",
              "       [0.42805495],\n",
              "       [0.43655098],\n",
              "       [0.49186551],\n",
              "       [0.43257411],\n",
              "       [0.4466739 ]])"
            ]
          },
          "metadata": {},
          "execution_count": 354
        }
      ]
    },
    {
      "cell_type": "code",
      "execution_count": null,
      "metadata": {
        "id": "MerYq6nOT_w4"
      },
      "outputs": [],
      "source": [
        "import numpy\n",
        "# Convert an array of values into a dataset matrix\n",
        "def create_dataset(dataset, time_step=1):\n",
        "\tdataX, dataY = [], []\n",
        "\tfor i in range(len(dataset)-time_step-1):\n",
        "\t\ta = dataset[i:(i+time_step), 0]   # i=0, 0,1,2,3-----99   100\n",
        "\t\tdataX.append(a)\n",
        "\t\tdataY.append(dataset[i + time_step, 0])\n",
        "\treturn numpy.array(dataX), numpy.array(dataY)"
      ]
    },
    {
      "cell_type": "code",
      "execution_count": null,
      "metadata": {
        "id": "UN8DN1NKT_w4"
      },
      "outputs": [],
      "source": [
        "# Reshape into X=t,t+1,t+2,t+3 and Y=t+4\n",
        "time_step = 30\n",
        "X_train, y_train = create_dataset(train_data, time_step)\n",
        "X_test, ytest = create_dataset(test_data, time_step)"
      ]
    },
    {
      "cell_type": "code",
      "execution_count": null,
      "metadata": {
        "colab": {
          "base_uri": "https://localhost:8080/"
        },
        "id": "9VdVvtpkT_w4",
        "outputId": "2c4308aa-fdeb-4bb3-c59a-417784d93772"
      },
      "outputs": [
        {
          "output_type": "stream",
          "name": "stdout",
          "text": [
            "(1405, 30)\n",
            "(1405,)\n"
          ]
        },
        {
          "output_type": "execute_result",
          "data": {
            "text/plain": [
              "(None, None)"
            ]
          },
          "metadata": {},
          "execution_count": 357
        }
      ],
      "source": [
        "print(X_train.shape), print(y_train.shape)"
      ]
    },
    {
      "cell_type": "code",
      "execution_count": null,
      "metadata": {
        "colab": {
          "base_uri": "https://localhost:8080/"
        },
        "id": "u1HFXXvnT_w5",
        "outputId": "462af80a-ed16-48ce-ad9f-176acb458a0d"
      },
      "outputs": [
        {
          "output_type": "stream",
          "name": "stdout",
          "text": [
            "(328, 30)\n",
            "(328,)\n"
          ]
        },
        {
          "output_type": "execute_result",
          "data": {
            "text/plain": [
              "(None, None)"
            ]
          },
          "metadata": {},
          "execution_count": 358
        }
      ],
      "source": [
        "print(X_test.shape), print(ytest.shape)"
      ]
    },
    {
      "cell_type": "code",
      "execution_count": null,
      "metadata": {
        "id": "IHvhpijqT_w5"
      },
      "outputs": [],
      "source": [
        "# Reshape input to be [samples, time steps, features] which is required for LSTM\n",
        "X_train =X_train.reshape(X_train.shape[0],X_train.shape[1] , 1)\n",
        "X_test = X_test.reshape(X_test.shape[0],X_test.shape[1] , 1)"
      ]
    },
    {
      "cell_type": "markdown",
      "source": [
        "## Model Building"
      ],
      "metadata": {
        "id": "zRF8F6AVaxkY"
      }
    },
    {
      "cell_type": "code",
      "execution_count": null,
      "metadata": {
        "id": "RfJL_-K2T_w5"
      },
      "outputs": [],
      "source": [
        "# Create the Stacked LSTM model\n",
        "from tensorflow.keras.models import Sequential\n",
        "from tensorflow.keras.layers import Dense\n",
        "from tensorflow.keras.layers import LSTM"
      ]
    },
    {
      "cell_type": "code",
      "execution_count": null,
      "metadata": {
        "colab": {
          "base_uri": "https://localhost:8080/"
        },
        "id": "rfLXl8q7T_w5",
        "outputId": "76bc45ed-5680-45bc-85dd-ca9db563ae25"
      },
      "outputs": [
        {
          "output_type": "stream",
          "name": "stderr",
          "text": [
            "/usr/local/lib/python3.11/dist-packages/keras/src/layers/rnn/rnn.py:200: UserWarning: Do not pass an `input_shape`/`input_dim` argument to a layer. When using Sequential models, prefer using an `Input(shape)` object as the first layer in the model instead.\n",
            "  super().__init__(**kwargs)\n"
          ]
        }
      ],
      "source": [
        "model=Sequential()\n",
        "model.add(LSTM(50,return_sequences=True,input_shape=(30,1)))\n",
        "model.add(LSTM(50,return_sequences=True))\n",
        "model.add(LSTM(50))\n",
        "model.add(Dense(1))\n",
        "model.compile(loss='mean_squared_error',optimizer='adam')\n"
      ]
    },
    {
      "cell_type": "code",
      "execution_count": null,
      "metadata": {
        "colab": {
          "base_uri": "https://localhost:8080/",
          "height": 257
        },
        "id": "YMaDAfjQT_w5",
        "outputId": "40f999a8-e820-4b7d-add3-a3224130ddf8"
      },
      "outputs": [
        {
          "output_type": "display_data",
          "data": {
            "text/plain": [
              "\u001b[1mModel: \"sequential_12\"\u001b[0m\n"
            ],
            "text/html": [
              "<pre style=\"white-space:pre;overflow-x:auto;line-height:normal;font-family:Menlo,'DejaVu Sans Mono',consolas,'Courier New',monospace\"><span style=\"font-weight: bold\">Model: \"sequential_12\"</span>\n",
              "</pre>\n"
            ]
          },
          "metadata": {}
        },
        {
          "output_type": "display_data",
          "data": {
            "text/plain": [
              "┏━━━━━━━━━━━━━━━━━━━━━━━━━━━━━━━━━━━━━━┳━━━━━━━━━━━━━━━━━━━━━━━━━━━━━┳━━━━━━━━━━━━━━━━━┓\n",
              "┃\u001b[1m \u001b[0m\u001b[1mLayer (type)                        \u001b[0m\u001b[1m \u001b[0m┃\u001b[1m \u001b[0m\u001b[1mOutput Shape               \u001b[0m\u001b[1m \u001b[0m┃\u001b[1m \u001b[0m\u001b[1m        Param #\u001b[0m\u001b[1m \u001b[0m┃\n",
              "┡━━━━━━━━━━━━━━━━━━━━━━━━━━━━━━━━━━━━━━╇━━━━━━━━━━━━━━━━━━━━━━━━━━━━━╇━━━━━━━━━━━━━━━━━┩\n",
              "│ lstm_31 (\u001b[38;5;33mLSTM\u001b[0m)                       │ (\u001b[38;5;45mNone\u001b[0m, \u001b[38;5;34m30\u001b[0m, \u001b[38;5;34m50\u001b[0m)              │          \u001b[38;5;34m10,400\u001b[0m │\n",
              "├──────────────────────────────────────┼─────────────────────────────┼─────────────────┤\n",
              "│ lstm_32 (\u001b[38;5;33mLSTM\u001b[0m)                       │ (\u001b[38;5;45mNone\u001b[0m, \u001b[38;5;34m30\u001b[0m, \u001b[38;5;34m50\u001b[0m)              │          \u001b[38;5;34m20,200\u001b[0m │\n",
              "├──────────────────────────────────────┼─────────────────────────────┼─────────────────┤\n",
              "│ lstm_33 (\u001b[38;5;33mLSTM\u001b[0m)                       │ (\u001b[38;5;45mNone\u001b[0m, \u001b[38;5;34m50\u001b[0m)                  │          \u001b[38;5;34m20,200\u001b[0m │\n",
              "├──────────────────────────────────────┼─────────────────────────────┼─────────────────┤\n",
              "│ dense_12 (\u001b[38;5;33mDense\u001b[0m)                     │ (\u001b[38;5;45mNone\u001b[0m, \u001b[38;5;34m1\u001b[0m)                   │              \u001b[38;5;34m51\u001b[0m │\n",
              "└──────────────────────────────────────┴─────────────────────────────┴─────────────────┘\n"
            ],
            "text/html": [
              "<pre style=\"white-space:pre;overflow-x:auto;line-height:normal;font-family:Menlo,'DejaVu Sans Mono',consolas,'Courier New',monospace\">┏━━━━━━━━━━━━━━━━━━━━━━━━━━━━━━━━━━━━━━┳━━━━━━━━━━━━━━━━━━━━━━━━━━━━━┳━━━━━━━━━━━━━━━━━┓\n",
              "┃<span style=\"font-weight: bold\"> Layer (type)                         </span>┃<span style=\"font-weight: bold\"> Output Shape                </span>┃<span style=\"font-weight: bold\">         Param # </span>┃\n",
              "┡━━━━━━━━━━━━━━━━━━━━━━━━━━━━━━━━━━━━━━╇━━━━━━━━━━━━━━━━━━━━━━━━━━━━━╇━━━━━━━━━━━━━━━━━┩\n",
              "│ lstm_31 (<span style=\"color: #0087ff; text-decoration-color: #0087ff\">LSTM</span>)                       │ (<span style=\"color: #00d7ff; text-decoration-color: #00d7ff\">None</span>, <span style=\"color: #00af00; text-decoration-color: #00af00\">30</span>, <span style=\"color: #00af00; text-decoration-color: #00af00\">50</span>)              │          <span style=\"color: #00af00; text-decoration-color: #00af00\">10,400</span> │\n",
              "├──────────────────────────────────────┼─────────────────────────────┼─────────────────┤\n",
              "│ lstm_32 (<span style=\"color: #0087ff; text-decoration-color: #0087ff\">LSTM</span>)                       │ (<span style=\"color: #00d7ff; text-decoration-color: #00d7ff\">None</span>, <span style=\"color: #00af00; text-decoration-color: #00af00\">30</span>, <span style=\"color: #00af00; text-decoration-color: #00af00\">50</span>)              │          <span style=\"color: #00af00; text-decoration-color: #00af00\">20,200</span> │\n",
              "├──────────────────────────────────────┼─────────────────────────────┼─────────────────┤\n",
              "│ lstm_33 (<span style=\"color: #0087ff; text-decoration-color: #0087ff\">LSTM</span>)                       │ (<span style=\"color: #00d7ff; text-decoration-color: #00d7ff\">None</span>, <span style=\"color: #00af00; text-decoration-color: #00af00\">50</span>)                  │          <span style=\"color: #00af00; text-decoration-color: #00af00\">20,200</span> │\n",
              "├──────────────────────────────────────┼─────────────────────────────┼─────────────────┤\n",
              "│ dense_12 (<span style=\"color: #0087ff; text-decoration-color: #0087ff\">Dense</span>)                     │ (<span style=\"color: #00d7ff; text-decoration-color: #00d7ff\">None</span>, <span style=\"color: #00af00; text-decoration-color: #00af00\">1</span>)                   │              <span style=\"color: #00af00; text-decoration-color: #00af00\">51</span> │\n",
              "└──────────────────────────────────────┴─────────────────────────────┴─────────────────┘\n",
              "</pre>\n"
            ]
          },
          "metadata": {}
        },
        {
          "output_type": "display_data",
          "data": {
            "text/plain": [
              "\u001b[1m Total params: \u001b[0m\u001b[38;5;34m50,851\u001b[0m (198.64 KB)\n"
            ],
            "text/html": [
              "<pre style=\"white-space:pre;overflow-x:auto;line-height:normal;font-family:Menlo,'DejaVu Sans Mono',consolas,'Courier New',monospace\"><span style=\"font-weight: bold\"> Total params: </span><span style=\"color: #00af00; text-decoration-color: #00af00\">50,851</span> (198.64 KB)\n",
              "</pre>\n"
            ]
          },
          "metadata": {}
        },
        {
          "output_type": "display_data",
          "data": {
            "text/plain": [
              "\u001b[1m Trainable params: \u001b[0m\u001b[38;5;34m50,851\u001b[0m (198.64 KB)\n"
            ],
            "text/html": [
              "<pre style=\"white-space:pre;overflow-x:auto;line-height:normal;font-family:Menlo,'DejaVu Sans Mono',consolas,'Courier New',monospace\"><span style=\"font-weight: bold\"> Trainable params: </span><span style=\"color: #00af00; text-decoration-color: #00af00\">50,851</span> (198.64 KB)\n",
              "</pre>\n"
            ]
          },
          "metadata": {}
        },
        {
          "output_type": "display_data",
          "data": {
            "text/plain": [
              "\u001b[1m Non-trainable params: \u001b[0m\u001b[38;5;34m0\u001b[0m (0.00 B)\n"
            ],
            "text/html": [
              "<pre style=\"white-space:pre;overflow-x:auto;line-height:normal;font-family:Menlo,'DejaVu Sans Mono',consolas,'Courier New',monospace\"><span style=\"font-weight: bold\"> Non-trainable params: </span><span style=\"color: #00af00; text-decoration-color: #00af00\">0</span> (0.00 B)\n",
              "</pre>\n"
            ]
          },
          "metadata": {}
        }
      ],
      "source": [
        "model.summary()"
      ]
    },
    {
      "cell_type": "code",
      "execution_count": null,
      "metadata": {
        "colab": {
          "base_uri": "https://localhost:8080/"
        },
        "id": "_8Bg_vteT_w6",
        "outputId": "ede34070-2b1e-4c73-b5c0-04c080559a24"
      },
      "outputs": [
        {
          "output_type": "stream",
          "name": "stdout",
          "text": [
            "Epoch 1/2\n",
            "\u001b[1m1405/1405\u001b[0m \u001b[32m━━━━━━━━━━━━━━━━━━━━\u001b[0m\u001b[37m\u001b[0m \u001b[1m35s\u001b[0m 22ms/step - loss: 0.0168 - val_loss: 0.0064\n",
            "Epoch 2/2\n",
            "\u001b[1m1405/1405\u001b[0m \u001b[32m━━━━━━━━━━━━━━━━━━━━\u001b[0m\u001b[37m\u001b[0m \u001b[1m31s\u001b[0m 22ms/step - loss: 0.0058 - val_loss: 0.0036\n"
          ]
        },
        {
          "output_type": "execute_result",
          "data": {
            "text/plain": [
              "<keras.src.callbacks.history.History at 0x784b9a7ae350>"
            ]
          },
          "metadata": {},
          "execution_count": 363
        }
      ],
      "source": [
        "model.fit(X_train,y_train,validation_data=(X_test,ytest),epochs=2,batch_size=1,verbose=1)"
      ]
    },
    {
      "cell_type": "code",
      "execution_count": null,
      "metadata": {
        "id": "PfM4EYYsT_w6"
      },
      "outputs": [],
      "source": [
        "import tensorflow as tf"
      ]
    },
    {
      "cell_type": "code",
      "execution_count": null,
      "metadata": {
        "colab": {
          "base_uri": "https://localhost:8080/",
          "height": 36
        },
        "id": "GiXjP8kTT_w7",
        "outputId": "b8cc7d2b-7759-44c8-a499-587fea93e2e0"
      },
      "outputs": [
        {
          "output_type": "execute_result",
          "data": {
            "text/plain": [
              "'2.18.0'"
            ],
            "application/vnd.google.colaboratory.intrinsic+json": {
              "type": "string"
            }
          },
          "metadata": {},
          "execution_count": 365
        }
      ],
      "source": [
        "tf.__version__"
      ]
    },
    {
      "cell_type": "code",
      "execution_count": null,
      "metadata": {
        "colab": {
          "base_uri": "https://localhost:8080/"
        },
        "id": "DY3Gh0KdT_w7",
        "outputId": "030c52b1-2478-4f64-ce7a-b670005e651a"
      },
      "outputs": [
        {
          "output_type": "stream",
          "name": "stdout",
          "text": [
            "\u001b[1m44/44\u001b[0m \u001b[32m━━━━━━━━━━━━━━━━━━━━\u001b[0m\u001b[37m\u001b[0m \u001b[1m1s\u001b[0m 21ms/step\n",
            "\u001b[1m11/11\u001b[0m \u001b[32m━━━━━━━━━━━━━━━━━━━━\u001b[0m\u001b[37m\u001b[0m \u001b[1m0s\u001b[0m 12ms/step\n"
          ]
        }
      ],
      "source": [
        "# Do the prediction and check performance metrics\n",
        "train_predict=model.predict(X_train)\n",
        "test_predict=model.predict(X_test)"
      ]
    },
    {
      "cell_type": "code",
      "execution_count": null,
      "metadata": {
        "id": "xHbMnxo5T_w7"
      },
      "outputs": [],
      "source": [
        "# Transformback to original form\n",
        "train_predict=scaler.inverse_transform(train_predict)\n",
        "test_predict=scaler.inverse_transform(test_predict)"
      ]
    },
    {
      "cell_type": "code",
      "execution_count": null,
      "metadata": {
        "colab": {
          "base_uri": "https://localhost:8080/"
        },
        "id": "7wtXfH-XT_w7",
        "outputId": "fe9c169e-afcf-4f30-c855-657d7bce6663"
      },
      "outputs": [
        {
          "output_type": "execute_result",
          "data": {
            "text/plain": [
              "4844.288134384652"
            ]
          },
          "metadata": {},
          "execution_count": 368
        }
      ],
      "source": [
        "# Calculate RMSE performance metrics\n",
        "import math\n",
        "from sklearn.metrics import mean_squared_error\n",
        "math.sqrt(mean_squared_error(y_train,train_predict))"
      ]
    },
    {
      "cell_type": "code",
      "execution_count": null,
      "metadata": {
        "colab": {
          "base_uri": "https://localhost:8080/"
        },
        "id": "juyheyHjT_w7",
        "outputId": "9f6da3fa-be75-4043-f03a-9dc1e8371738"
      },
      "outputs": [
        {
          "output_type": "execute_result",
          "data": {
            "text/plain": [
              "904.3605745991265"
            ]
          },
          "metadata": {},
          "execution_count": 372
        }
      ],
      "source": [
        "### Test Data RMSE\n",
        "math.sqrt(mean_squared_error(_20_final,test_predict))"
      ]
    },
    {
      "cell_type": "code",
      "source": [
        "from sklearn.metrics import mean_absolute_error\n",
        "mean_absolute_error(_20_final,test_predict)"
      ],
      "metadata": {
        "colab": {
          "base_uri": "https://localhost:8080/"
        },
        "id": "IJ-8dS1omf3S",
        "outputId": "f565d700-2c53-460a-d396-bf8f0f5ef464"
      },
      "execution_count": null,
      "outputs": [
        {
          "output_type": "execute_result",
          "data": {
            "text/plain": [
              "742.1754101264768"
            ]
          },
          "metadata": {},
          "execution_count": 373
        }
      ]
    },
    {
      "cell_type": "markdown",
      "source": [
        "## Plotting"
      ],
      "metadata": {
        "id": "dNzdB6EVatWM"
      }
    },
    {
      "cell_type": "code",
      "execution_count": null,
      "metadata": {
        "id": "_dQKrygHT_w7"
      },
      "outputs": [],
      "source": [
        "# Plotting\n",
        "# shift train predictions for plotting\n",
        "look_back=100\n",
        "trainPredictPlot = numpy.empty_like(df1)\n",
        "trainPredictPlot[:, :] = np.nan\n",
        "trainPredictPlot[look_back:len(train_predict)+look_back, :] = train_predict\n",
        "# shift test predictions for plotting\n",
        "testPredictPlot = numpy.empty_like(df1)\n",
        "testPredictPlot[:, :] = numpy.nan\n",
        "testPredictPlot[len(train_predict)+(look_back*2)+1:len(df1)-1, :] = test_predict\n",
        "# plot baseline and predictions\n",
        "plt.plot(scaler.inverse_transform(df1))\n",
        "plt.plot(trainPredictPlot)\n",
        "plt.plot(testPredictPlot)\n",
        "plt.show()"
      ]
    },
    {
      "cell_type": "markdown",
      "source": [
        "## Seasonal Decompose"
      ],
      "metadata": {
        "id": "ejT195y1e3Mu"
      }
    },
    {
      "cell_type": "code",
      "source": [
        "from statsmodels.tsa.seasonal import seasonal_decompose"
      ],
      "metadata": {
        "id": "hphvULwWe7Pk"
      },
      "execution_count": null,
      "outputs": []
    },
    {
      "cell_type": "code",
      "source": [
        "seasonal_decompose = seasonal_decompose(df1, period = 365)"
      ],
      "metadata": {
        "id": "JXt4-oXHe6Bx"
      },
      "execution_count": null,
      "outputs": []
    },
    {
      "cell_type": "code",
      "source": [
        "seasonal_decompose.plot()"
      ],
      "metadata": {
        "id": "VmT94gHqfLW2"
      },
      "execution_count": null,
      "outputs": []
    }
  ],
  "metadata": {
    "kernelspec": {
      "display_name": "Python 3",
      "language": "python",
      "name": "python3"
    },
    "language_info": {
      "codemirror_mode": {
        "name": "ipython",
        "version": 3
      },
      "file_extension": ".py",
      "mimetype": "text/x-python",
      "name": "python",
      "nbconvert_exporter": "python",
      "pygments_lexer": "ipython3",
      "version": "3.6.9"
    },
    "colab": {
      "provenance": []
    }
  },
  "nbformat": 4,
  "nbformat_minor": 0
}